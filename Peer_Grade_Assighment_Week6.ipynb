{
 "cells": [
  {
   "cell_type": "markdown",
   "metadata": {},
   "source": [
    "<center>\n",
    "    <img src=\"https://cf-courses-data.s3.us.cloud-object-storage.appdomain.cloud/IBMDeveloperSkillsNetwork-DS0105EN-SkillsNetwork/labs/Module2/images/SN_web_lightmode.png\" width=\"300\" alt=\"cognitiveclass.ai logo\">\n",
    "</center>\n"
   ]
  },
  {
   "cell_type": "markdown",
   "metadata": {},
   "source": [
    "#### Add your code below following the instructions given in the course\n"
   ]
  },
  {
   "cell_type": "markdown",
   "metadata": {},
   "source": [
    "# Peer-graded Assignment"
   ]
  },
  {
   "cell_type": "markdown",
   "metadata": {},
   "source": [
    "## Introduction"
   ]
  },
  {
   "cell_type": "markdown",
   "metadata": {},
   "source": [
    "## List of data science languages\n",
    "1. Python\n",
    "2. R\n",
    "3. C++\n",
    "4. Java\n",
    "5. JavaScript\n",
    "6. Julia\n",
    "7. Scala\n",
    "8. SQL"
   ]
  },
  {
   "cell_type": "markdown",
   "metadata": {
    "tags": []
   },
   "source": [
    "## List of data science libraries\n",
    "1. TensorFlow\n",
    "2. Numpy\n",
    "3. Pandas\n",
    "4. Matplotlib\n",
    "5. PyTorch\n",
    "6. scikit-learn"
   ]
  },
  {
   "cell_type": "markdown",
   "metadata": {
    "tags": []
   },
   "source": [
    "## Table of Data Science tools"
   ]
  },
  {
   "cell_type": "markdown",
   "metadata": {
    "tags": []
   },
   "source": [
    "|Tool Name|Purpose|\n",
    "|---------|--------|\n",
    "|Tableau|Business intelligence and visualization|\n",
    "|Tensorflow|Library|\n",
    "|R|Statistical computing and graphics\t|\n",
    "|Matlab|Data visualization library|\n",
    "|Excel|Spreadsheet software|\n",
    "|Python|General-purpose programming language|\n",
    "|Apache Spark|Distributed data processing|"
   ]
  },
  {
   "cell_type": "markdown",
   "metadata": {},
   "source": [
    "## Arithmetic expression examples in Python\n",
    "1. Addition Arthmetic Expression\n",
    "\n",
    "x = 5\n",
    "\n",
    "y = 3\n",
    "\n",
    "result = x + y\n",
    "\n",
    "print(result)\n",
    "\n",
    "Output: 8\n",
    "\n",
    "2. Substraction Arthmetic Expression\n",
    "\n",
    "a = 10\n",
    "\n",
    "b = 4\n",
    "\n",
    "result = a - b\n",
    "\n",
    "print(result)\n",
    "\n",
    "Output: 6\n",
    "\n",
    "3. Multiplication Arthmetic Expression\n",
    "\n",
    "num1 = 7\n",
    "\n",
    "num2 = 9\n",
    "\n",
    "result = num1 * num2\n",
    "\n",
    "print(result)\n",
    "\n",
    "Output: 63\n",
    "\n",
    "4. Division Arthmetic Expression\n",
    "\n",
    "numerator = 15\n",
    "\n",
    "denominator = 3\n",
    "\n",
    "result = numerator / denominator\n",
    "\n",
    "print(result)\n",
    "\n",
    "Output: 5.0\n",
    "\n",
    "5. Floor-Division Arthmetic Expression\n",
    "\n",
    "x = 10\n",
    "\n",
    "y = 3\n",
    "\n",
    "result = x // y\n",
    "\n",
    "print(result)\n",
    "\n",
    "Output: 3\n",
    "\n",
    "5. Modulo Arthmetic Expression\n",
    "\n",
    "a = 17\n",
    "\n",
    "b = 5\n",
    "\n",
    "result = a % b\n",
    "\n",
    "print(result)\n",
    "\n",
    "Output: 2\n",
    "\n",
    "6. Exponentiation Arthmetic Expression\n",
    "\n",
    "base = 2\n",
    "\n",
    "exponent = 4\n",
    "\n",
    "result = base ** exponent\n",
    "\n",
    "print(result)\n",
    "\n",
    "Output: 16\n"
   ]
  },
  {
   "cell_type": "code",
   "execution_count": 12,
   "metadata": {
    "tags": []
   },
   "outputs": [
    {
     "name": "stdout",
     "output_type": "stream",
     "text": [
      "sum of  number1 , number2 : 7\n",
      "product of  number1 , number2 : 12\n"
     ]
    }
   ],
   "source": [
    "### code cell to multiply and add numbers\n",
    "number1 = 3\n",
    "number2 = 4\n",
    "print(\"sum of \",\"number1\",\",\",\"number2 :\",number1+number2)\n",
    "print(\"product of \",\"number1\",\",\",\"number2 :\",number1*number2)"
   ]
  },
  {
   "cell_type": "code",
   "execution_count": 10,
   "metadata": {
    "tags": []
   },
   "outputs": [
    {
     "name": "stdout",
     "output_type": "stream",
     "text": [
      "80 minutes in hours :1.33 Hours\n"
     ]
    }
   ],
   "source": [
    "### code cell to convert minutes to hours.\n",
    "minutes = 80\n",
    "hours = minutes/60\n",
    "print(minutes,\"minutes in hours :{:.2f} Hours\".format(hours))"
   ]
  },
  {
   "cell_type": "markdown",
   "metadata": {
    "tags": []
   },
   "source": [
    "## markdown cell to list Objectives\n",
    "##The objectives of using lists in Python are:\n",
    "\n",
    "1. Collection of Items: \n",
    "    Lists provide a way to store multiple items of different data types in a single variable. You can have elements like integers, floats, strings, or even other lists within a single list.\n",
    "\n",
    "2. Ordered Elements: \n",
    "    Lists maintain the order of the elements as they are added. Each element has a specific position or index in the list, allowing for easy access based on its position.\n",
    "\n",
    "3. Mutability:     \n",
    "    Lists are mutable, meaning you can modify them after creation. You can add new elements, remove existing ones, or change the values of elements within the list.\n",
    "\n",
    "4. Dynamic Size: \n",
    "    Lists can grow or shrink as needed. You can add elements to the list as your program runs, making it flexible and adaptable to changing requirements.\n",
    "\n",
    "5. Iteration and Access:\n",
    "    Lists support iteration using loops, making it easy to process each item in the list one by one. You can access elements in a list by their index or use slicing to extract a portion of the list.\n",
    "\n",
    "6. Versatility:\n",
    "    Lists can hold elements of different data types. You can mix integers, strings, booleans, and other data types within a single list, making them versatile for organizing heterogeneous data.\n",
    "\n",
    "7. Concatenation and Repetition: \n",
    "    Lists can be combined (concatenated) using the + operator, allowing you to join two or more lists together. They can also be repeated using the * operator, duplicating the elements.\n",
    "\n",
    "8. Data Organization: \n",
    "    Lists are suitable for organizing data into collections, such as representing a list of students, inventory items, or points in a coordinate system"
   ]
  },
  {
   "cell_type": "code",
   "execution_count": 7,
   "metadata": {
    "tags": []
   },
   "outputs": [],
   "source": [
    "## markdown cell to indicate the Author’s name"
   ]
  },
  {
   "cell_type": "markdown",
   "metadata": {},
   "source": [
    "## Author\n",
    "### Purnima Yellakara\n",
    "Github : https://github.com/pylkra"
   ]
  },
  {
   "cell_type": "markdown",
   "metadata": {
    "tags": []
   },
   "source": [
    "### Share your notebook through GitHub\n",
    "Github Note book Link: https://github.com/pylkra/testrepo/blob/main/Jupyter_Notebook.ipynb"
   ]
  },
  {
   "cell_type": "code",
   "execution_count": null,
   "metadata": {},
   "outputs": [],
   "source": [
    "### Take a screenshot of the first page of the notebook"
   ]
  }
 ],
 "metadata": {
  "kernelspec": {
   "display_name": "Python",
   "language": "python",
   "name": "conda-env-python-py"
  },
  "language_info": {
   "codemirror_mode": {
    "name": "ipython",
    "version": 3
   },
   "file_extension": ".py",
   "mimetype": "text/x-python",
   "name": "python",
   "nbconvert_exporter": "python",
   "pygments_lexer": "ipython3",
   "version": "3.7.12"
  }
 },
 "nbformat": 4,
 "nbformat_minor": 4
}
